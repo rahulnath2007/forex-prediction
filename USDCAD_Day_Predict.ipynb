{
  "cells": [
    {
      "cell_type": "markdown",
      "metadata": {
        "id": "view-in-github",
        "colab_type": "text"
      },
      "source": [
        "<a href=\"https://colab.research.google.com/github/rahulnath2007/forex-prediction/blob/main/USDCAD_Day_Predict.ipynb\" target=\"_parent\"><img src=\"https://colab.research.google.com/assets/colab-badge.svg\" alt=\"Open In Colab\"/></a>"
      ]
    },
    {
      "cell_type": "markdown",
      "metadata": {
        "id": "PjBRmWgiq4D0"
      },
      "source": [
        "# USDCAD-day-prediction"
      ]
    },
    {
      "cell_type": "code",
      "execution_count": null,
      "metadata": {
        "id": "bnuGpPJfscM-"
      },
      "outputs": [],
      "source": [
        "!pip install colorama"
      ]
    },
    {
      "cell_type": "code",
      "source": [
        "!pip install tradermade"
      ],
      "metadata": {
        "id": "zcLERgxKVpJ0"
      },
      "execution_count": null,
      "outputs": []
    },
    {
      "cell_type": "code",
      "execution_count": null,
      "metadata": {
        "id": "6bMTyFqdq4D5"
      },
      "outputs": [],
      "source": [
        "from google.colab import drive\n",
        "import pandas as pd\n",
        "import numpy as np\n",
        "import numpy.ma as ma\n",
        "from colorama import init as colorama_init\n",
        "from colorama import Fore\n",
        "from colorama import Style\n",
        "import tradermade as tm\n",
        "import datetime"
      ]
    },
    {
      "cell_type": "code",
      "execution_count": null,
      "metadata": {
        "id": "mNoYmYPEdIs4"
      },
      "outputs": [],
      "source": [
        "drive.mount('/content/drive')\n",
        "df = pd.read_excel('/content/drive/My Drive/USDCAD_Day_Predict.xlsx')\n",
        "df['Date'] = pd.to_datetime(df['Date']).dt.normalize()"
      ]
    },
    {
      "cell_type": "code",
      "source": [
        "'''df.to_csv('USDCAD.csv')'''"
      ],
      "metadata": {
        "id": "uMPOGK5TQpUs"
      },
      "execution_count": null,
      "outputs": []
    },
    {
      "cell_type": "code",
      "source": [
        "'''df = pd.read_csv('/content/USDCAD.csv')'''"
      ],
      "metadata": {
        "id": "hhz8HCUFQcOx"
      },
      "execution_count": null,
      "outputs": []
    },
    {
      "cell_type": "code",
      "execution_count": null,
      "metadata": {
        "id": "O0-L7l5zroFm"
      },
      "outputs": [],
      "source": [
        "Features = df[['Price','Open','Vol.']].copy()\n",
        "Target_01 = df[['High']].copy()\n",
        "Target_02 = df[['Low']].copy()"
      ]
    },
    {
      "cell_type": "code",
      "execution_count": null,
      "metadata": {
        "id": "-Zg2f0lxsGmt"
      },
      "outputs": [],
      "source": [
        "from sklearn.model_selection import train_test_split\n",
        "X = Features\n",
        "y = Target_01\n",
        "X_train, X_test, y_train, y_test = train_test_split(X,y,test_size=0.30,random_state=13)\n",
        "\n",
        "from sklearn.linear_model import LinearRegression\n",
        "Linear_model_01 = LinearRegression()\n",
        "Linear_model_01.fit(X_train, y_train)\n",
        "Linear_model_01.score(X_test, y_test)"
      ]
    },
    {
      "cell_type": "code",
      "execution_count": null,
      "metadata": {
        "id": "-CZzQ9mFwFvT"
      },
      "outputs": [],
      "source": [
        "predicted_array1 = Linear_model_01.predict(X_test)\n",
        "Predicted_01 = pd.DataFrame(predicted_array1, columns = ['Predicted_High'])\n",
        "result1 = pd.merge(Predicted_01, y_test,left_index=True, right_index=True)"
      ]
    },
    {
      "cell_type": "code",
      "execution_count": null,
      "metadata": {
        "id": "DNuTlMIEDhlu"
      },
      "outputs": [],
      "source": [
        "from sklearn.model_selection import train_test_split\n",
        "m = Features\n",
        "n = Target_02\n",
        "m_train, m_test, n_train, n_test = train_test_split(m,n,test_size=0.30,random_state=13)\n",
        "\n",
        "from sklearn.linear_model import LinearRegression\n",
        "Linear_model_02 = LinearRegression()\n",
        "Linear_model_02.fit(m_train, n_train)\n",
        "Linear_model_02.score(m_test, n_test)"
      ]
    },
    {
      "cell_type": "code",
      "execution_count": null,
      "metadata": {
        "id": "IZEgyi4bDnuV"
      },
      "outputs": [],
      "source": [
        "predicted_array2 = Linear_model_02.predict(m_test)\n",
        "Predicted_02 = pd.DataFrame(predicted_array2, columns = ['Predicted_Low'])\n",
        "result2 = pd.merge(Predicted_02, n_test,left_index=True, right_index=True)"
      ]
    },
    {
      "cell_type": "code",
      "execution_count": null,
      "metadata": {
        "id": "dtF_GkWQtF3i"
      },
      "outputs": [],
      "source": [
        "Predicted_array = (predicted_array1+predicted_array2)/2 \n",
        "Predicted = pd.DataFrame(Predicted_array, columns = ['Predicted'])\n",
        "price = df[['Price']]\n",
        "result = pd.merge(price,Predicted,left_index=True, right_index=True)\n",
        "decision = pd.merge(result1,result2,left_index=True, right_index=True)\n",
        "Final_df = pd.merge(result,decision,left_index=True, right_index=True)\n",
        "date = df[['Date']]\n",
        "final_decition = pd.merge(date,Final_df,left_index=True, right_index=True)"
      ]
    },
    {
      "cell_type": "code",
      "source": [
        "Price = float(1.3593)\n",
        "Open = float(1.3597)\n",
        "Vol = float(73.30)\n",
        "#Linear_model_01.predict([[Price,Open,Vol]])\n",
        "j = Linear_model_01.predict([[Price,Open,Vol]])\n",
        "b = Linear_model_02.predict([[Price,Open,Vol]])\n",
        "l = pd.DataFrame(j, columns = ['projected_high'])\n",
        "n = pd.DataFrame(b, columns = ['projected_low'])\n",
        "Predicted_High_nparrayTo_float = ma.masked_array(l.iat[0, 0], mask =[False]).__float__()\n",
        "Predicted_Low_nparrayTo_float = ma.masked_array(n.iat[0, 0], mask =[False]).__float__()\n",
        "Predicted_mean = (Predicted_High_nparrayTo_float + Predicted_Low_nparrayTo_float)/2\n",
        "projected_high_difference = abs(Predicted_High_nparrayTo_float-Price)\n",
        "projected_low_difference = abs(Predicted_Low_nparrayTo_float-Price)\n",
        "if Predicted_mean > Price and projected_high_difference > projected_low_difference:\n",
        "  print(f\"{Fore.RED}Up{Style.RESET_ALL} can be Predicted!\")\n",
        "elif Predicted_mean < Price and projected_high_difference < projected_low_difference:\n",
        "    print(f\"{Fore.RED}Down{Style.RESET_ALL} can be Predicted!\")\n",
        "else:\n",
        "    print(f\"{Fore.RED}SORRY{Style.RESET_ALL},No prediction!!!\")"
      ],
      "metadata": {
        "id": "so-U-Szqg76D"
      },
      "execution_count": null,
      "outputs": []
    },
    {
      "cell_type": "code",
      "execution_count": null,
      "metadata": {
        "id": "UVNu3YZJPzKj"
      },
      "outputs": [],
      "source": [
        "tm.set_rest_api_key(\"C9gXIyD3rMn0Eg-bpPyu\")\n",
        "x = \"2022-10-20\"\n",
        "vol = float(111.30)\n",
        "#x = input(\"Please input your targeted date [yyyy-dd-mm] for first 12 days otherwise yyyy-mm-dd : \")\n",
        "#vol = input(\"Please input your targeted dated volume : \")\n",
        "#tm.live(currency='EURUSD,GBPUSD',fields=[\"bid\", \"mid\", \"ask\"]) # returns live data - fields is optional\n",
        "#df1 = tm.timeseries(currency='USDCAD', start=\"2022-12-31\",end=datetime.datetime.today (),interval=\"daily\",fields=[\"open\", \"high\", \"low\",\"close\"])\n",
        "df1 = tm.timeseries(currency='USDCAD', start=x,end=datetime.datetime.today (),interval=\"daily\",fields=[\"open\", \"high\", \"low\",\"close\"])\n",
        "# returns timeseries data for the currency requested interval is daily, hourly, minute - fields is optional\n",
        "df2 = df1.head(1)\n",
        "#df2 = df[df['Date']==df.iat[0,0]]\n",
        "#df2 = df[df['Date']==input(\"Please input your targeted date [yyyy-dd-mm] for first 12 days otherwise yyyy-mm-dd : \")]\n",
        "Price_Previous_Closing = float(df2.iat[0,4])\n",
        "Open_Previous_Starting = float(df2.iat[0,1])                                                 # input function is in str\n",
        "Vol_Privious = vol\n",
        "j = Linear_model_01.predict([[Price_Previous_Closing,Open_Previous_Starting,Vol_Privious]]) #Linear_model_01.predict([[92.13,92.8,7027]])\n",
        "b = Linear_model_02.predict([[Price_Previous_Closing,Open_Previous_Starting,Vol_Privious]])\n",
        "l = pd.DataFrame(j, columns = ['projected_high'])\n",
        "n = pd.DataFrame(b, columns = ['projected_low'])\n",
        "Predicted_High_nparrayTo_float = ma.masked_array(l.iat[0, 0], mask =[False]).__float__()\n",
        "Predicted_Low_nparrayTo_float = ma.masked_array(n.iat[0, 0], mask =[False]).__float__()\n",
        "Predicted_mean = (Predicted_High_nparrayTo_float + Predicted_Low_nparrayTo_float)/2\n",
        "projected_high_difference = abs(Predicted_High_nparrayTo_float-Price_Previous_Closing)\n",
        "projected_low_difference = abs(Predicted_Low_nparrayTo_float-Price_Previous_Closing)\n",
        "print('Predicting Price for :',df2.iat[0,0] )  # pd.to_datetime(df['Date']).dt.normalize()\n",
        "print('Predicting Price for : ',Price_Previous_Closing)\n",
        "print('Predicted_mean is : ',Predicted_mean)\n",
        "print('projected_high_difference is : ',projected_high_difference)\n",
        "print('projected_low_difference is : ',projected_low_differ)\n",
        "if Predicted_mean > Price_Previous_Closing and projected_high_difference > projected_low_difference :\n",
        "  print(f\"{Fore.RED}Up{Style.RESET_ALL} can be Predicted!\")\n",
        "elif Predicted_mean < Price_Previous_Closing and projected_high_difference < projected_low_difference:\n",
        "    print(f\"{Fore.RED}Down{Style.RESET_ALL} can be Predicted!\")\n",
        "else:\n",
        "    print(f\"{Fore.RED}SORRY{Style.RESET_ALL},You have no predictions!!!\")"
      ]
    },
    {
      "cell_type": "code",
      "source": [
        "df2"
      ],
      "metadata": {
        "id": "Z9zqHlofRAs2"
      },
      "execution_count": null,
      "outputs": []
    },
    {
      "cell_type": "code",
      "execution_count": null,
      "metadata": {
        "id": "_yqugU93K5n_"
      },
      "outputs": [],
      "source": [
        "final_decition.to_excel(r'/content/drive/My Drive/USDCAD_Day_Predicted_Decision.xlsx', index=False)"
      ]
    },
    {
      "cell_type": "markdown",
      "metadata": {
        "id": "Q4K48PsyLlxl"
      },
      "source": [
        "# Success!!!"
      ]
    }
  ],
  "metadata": {
    "colab": {
      "provenance": [],
      "include_colab_link": true
    },
    "gpuClass": "standard",
    "kernelspec": {
      "display_name": "Python 3",
      "language": "python",
      "name": "python3"
    },
    "language_info": {
      "codemirror_mode": {
        "name": "ipython",
        "version": 3
      },
      "file_extension": ".py",
      "mimetype": "text/x-python",
      "name": "python",
      "nbconvert_exporter": "python",
      "pygments_lexer": "ipython3",
      "version": "3.7.6"
    }
  },
  "nbformat": 4,
  "nbformat_minor": 0
}